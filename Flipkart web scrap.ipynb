{
 "cells": [
  {
   "cell_type": "code",
   "execution_count": 27,
   "metadata": {},
   "outputs": [],
   "source": [
    "import pandas as pd\n",
    "from bs4 import BeautifulSoup\n",
    "from msedge.selenium_tools import Edge,EdgeOptions"
   ]
  },
  {
   "cell_type": "markdown",
   "metadata": {},
   "source": [
    "## Startup web driver"
   ]
  },
  {
   "cell_type": "code",
   "execution_count": 28,
   "metadata": {},
   "outputs": [],
   "source": [
    "options = EdgeOptions()\n",
    "options.use_chromium = True\n",
    "driver = Edge(options=options)"
   ]
  },
  {
   "cell_type": "code",
   "execution_count": 29,
   "metadata": {},
   "outputs": [],
   "source": [
    "url = 'https://www.flipkart.com'\n",
    "driver.get(url)"
   ]
  },
  {
   "cell_type": "code",
   "execution_count": 30,
   "metadata": {},
   "outputs": [],
   "source": [
    "def get_url(search_term):\n",
    "    \n",
    "    template = 'https://www.flipkart.com/search?q={}'\n",
    "    search_term = search_term.replace(' ','+')\n",
    "    url = template.format(search_term)\n",
    "    \n",
    "    return url"
   ]
  },
  {
   "cell_type": "code",
   "execution_count": 31,
   "metadata": {},
   "outputs": [
    {
     "name": "stdout",
     "output_type": "stream",
     "text": [
      "https://www.flipkart.com/search?q=mobile+phone\n"
     ]
    }
   ],
   "source": [
    "url = get_url('mobile phone')\n",
    "print(url)"
   ]
  },
  {
   "cell_type": "code",
   "execution_count": 32,
   "metadata": {},
   "outputs": [],
   "source": [
    "driver.get(url)"
   ]
  },
  {
   "cell_type": "markdown",
   "metadata": {},
   "source": [
    "## Extract the collection"
   ]
  },
  {
   "cell_type": "code",
   "execution_count": 52,
   "metadata": {},
   "outputs": [
    {
     "name": "stdout",
     "output_type": "stream",
     "text": [
      "24\n"
     ]
    }
   ],
   "source": [
    "soup = BeautifulSoup(driver.page_source,'html.parser')\n",
    "results = soup.find_all('div', {'class' : '_2kHMtA'})\n",
    "print(len(results))"
   ]
  },
  {
   "cell_type": "code",
   "execution_count": 53,
   "metadata": {},
   "outputs": [
    {
     "name": "stdout",
     "output_type": "stream",
     "text": [
      "<div class=\"_2kHMtA\" data-tkid=\"54111c9b-e788-4db0-9832-381bc1352f2d.MOBFV9V92KHMFCVF.SEARCH\"><a class=\"_1fQZEK\" href=\"/poco-m2-pitch-black-64-gb/p/itm630300707d0a5?pid=MOBFV9V92KHMFCVF&amp;lid=LSTMOBFV9V92KHMFCVFXHKCWC&amp;marketplace=FLIPKART&amp;srno=s_1_1&amp;otracker=search&amp;fm=organic&amp;iid=54111c9b-e788-4db0-9832-381bc1352f2d.MOBFV9V92KHMFCVF.SEARCH&amp;ssid=mwxquc2mm80000001609313077426&amp;qH=37695f7554f510f0\" rel=\"noopener noreferrer\" target=\"_blank\"><div class=\"MIXNux\"><div class=\"_2QcLo-\"><div><div class=\"CXW8mj\" style=\"height:200px;width:200px\"><img alt=\"POCO M2 (Pitch Black, 64 GB)\" class=\"_396cs4 _3exPp9\" src=\"https://rukminim1.flixcart.com/image/312/312/kesv0y80/mobile/p/2/x/poco-m2-mzb9918in-original-imafvdqw3bbewa42.jpeg?q=70\"/></div></div></div><div class=\"_3wLduG\"><div class=\"_3PzNI-\"><span class=\"f3A4_V\"><div class=\"_2iDkf8\"><label><input class=\"_30VH1S\" readonly=\"\" type=\"checkbox\" value=\"on\"/><div class=\"_24_Dny\"></div></label></div></span><label class=\"_6Up2sF\"><span>Add to Compare</span></label></div></div><div class=\"_2hVSre _3nq8ih\"><div class=\"_36FSn5\"><svg class=\"_1l0elc\" height=\"16\" viewbox=\"0 0 20 16\" width=\"16\" xmlns=\"http://www.w3.org/2000/svg\"><path class=\"eX72wL\" d=\"M8.695 16.682C4.06 12.382 1 9.536 1 6.065 1 3.219 3.178 1 5.95 1c1.566 0 3.069.746 4.05 1.915C10.981 1.745 12.484 1 14.05 1 16.822 1 19 3.22 19 6.065c0 3.471-3.06 6.316-7.695 10.617L10 17.897l-1.305-1.215z\" fill=\"#2874F0\" fill-rule=\"evenodd\" opacity=\".9\" stroke=\"#FFF\"></path></svg></div></div></div><div class=\"_3pLy-c row\"><div class=\"col col-7-12\"><div class=\"_4rR01T\">POCO M2 (Pitch Black, 64 GB)</div><div class=\"gUuXy-\"><span class=\"_1lRcqv\" id=\"productRating_LSTMOBFV9V92KHMFCVFXHKCWC_MOBFV9V92KHMFCVF_\"><div class=\"_3LWZlK\">4.3<img class=\"_1wB99o\" src=\"data:image/svg+xml;base64,PHN2ZyB4bWxucz0iaHR0cDovL3d3dy53My5vcmcvMjAwMC9zdmciIHdpZHRoPSIxMyIgaGVpZ2h0PSIxMiI+PHBhdGggZmlsbD0iI0ZGRiIgZD0iTTYuNSA5LjQzOWwtMy42NzQgMi4yMy45NC00LjI2LTMuMjEtMi44ODMgNC4yNTQtLjQwNEw2LjUuMTEybDEuNjkgNC4wMSA0LjI1NC40MDQtMy4yMSAyLjg4Mi45NCA0LjI2eiIvPjwvc3ZnPg==\"/></div></span><span class=\"_2_R_DZ\"><span><span>2,06,855 Ratings </span><span class=\"_13vcmD\">&amp;</span><span> 16,707 Reviews</span></span></span></div><div class=\"fMghEO\"><ul class=\"_1xgFaf\"><li class=\"rgWa7D\">6 GB RAM | 64 GB ROM | Expandable Upto 512 GB</li><li class=\"rgWa7D\">16.59 cm (6.53 inch) Full HD+ Display</li><li class=\"rgWa7D\">13MP + 8MP + 5MP + 2MP | 8MP Front Camera</li><li class=\"rgWa7D\">5000 mAh Lithium Polymer Battery</li><li class=\"rgWa7D\">MediaTek Helio G80 Processor</li><li class=\"rgWa7D\">1 Year for Handset, 6 Months for Accessories</li></ul></div></div><div class=\"col col-5-12 nlI3QM\"><div class=\"_3tbKJL\"><div class=\"_25b18c\"><div class=\"_30jeq3 _1_WHN1\">₹9,999</div><div class=\"_3I9_wc _27UcVY\">₹<!-- -->12,999</div><div class=\"_3Ay6Sb\"><span>23% off</span></div></div></div><div class=\"_13J9qT\"><img height=\"21\" src=\"//img1a.flixcart.com/www/linchpin/fk-cp-zion/img/fa_62673a.png\"/></div><div class=\"_2ZdXDB\"><div class=\"_18hQoS\" style=\"color:#000000;font-size:12px;font-family:inherit;font-weight:normal\">No Cost EMI</div></div><div class=\"_2ZdXDB\"><div class=\"_18hQoS\" style=\"color:#000000;font-size:14px;font-family:inherit;font-weight:normal\">Upto </div><div class=\"_18hQoS\" style=\"color:#000000;font-size:14px;font-family:inherit;font-weight:bold\">₹9,350</div><div class=\"_18hQoS\" style=\"color:#000000;font-size:14px;font-family:inherit;font-weight:normal\"> Off on Exchange</div></div></div></div></a></div>\n"
     ]
    }
   ],
   "source": [
    "item = results[0]\n",
    "print(item)"
   ]
  },
  {
   "cell_type": "code",
   "execution_count": 55,
   "metadata": {},
   "outputs": [
    {
     "name": "stdout",
     "output_type": "stream",
     "text": [
      "POCO M2 (Pitch Black, 64 GB)\n"
     ]
    }
   ],
   "source": [
    "Name = item.find('div', {'class' : '_4rR01T'}).text.strip()\n",
    "print(Name)"
   ]
  },
  {
   "cell_type": "code",
   "execution_count": 57,
   "metadata": {},
   "outputs": [
    {
     "name": "stdout",
     "output_type": "stream",
     "text": [
      "₹9,999\n"
     ]
    }
   ],
   "source": [
    "Price = item.find('div',{'class' : '_30jeq3 _1_WHN1'}).text.strip()\n",
    "print(Price)"
   ]
  },
  {
   "cell_type": "code",
   "execution_count": 58,
   "metadata": {},
   "outputs": [
    {
     "name": "stdout",
     "output_type": "stream",
     "text": [
      "4.3\n"
     ]
    }
   ],
   "source": [
    "Rating = item.find('div' , {'class' : '_3LWZlK'}).text.strip()\n",
    "print(Rating)"
   ]
  },
  {
   "cell_type": "code",
   "execution_count": 71,
   "metadata": {},
   "outputs": [
    {
     "name": "stdout",
     "output_type": "stream",
     "text": [
      "6 GB RAM | 64 GB ROM | Expandable Upto 512 GB16.59 cm (6.53 inch) Full HD+ Display13MP + 8MP + 5MP + 2MP | 8MP Front Camera5000 mAh Lithium Polymer BatteryMediaTek Helio G80 Processor1 Year for Handset, 6 Months for Accessories\n"
     ]
    },
    {
     "data": {
      "text/plain": [
       "227"
      ]
     },
     "execution_count": 71,
     "metadata": {},
     "output_type": "execute_result"
    }
   ],
   "source": [
    "Specifications = item.find('div' , {'class' : 'fMghEO'}).text.strip()\n",
    "print(Specifications)\n",
    "len(Specifications)"
   ]
  },
  {
   "cell_type": "markdown",
   "metadata": {},
   "source": [
    "# Generalise the Pattern"
   ]
  },
  {
   "cell_type": "code",
   "execution_count": 88,
   "metadata": {},
   "outputs": [],
   "source": [
    "data_list = []\n",
    "for item in results:\n",
    "        \n",
    "    temp_dict = {}\n",
    "    temp_dict['TITLE'] =  item.find('div', {'class' : '_4rR01T'}).text.strip()\n",
    "    temp_dict['PRICE'] =  item.find('div',{'class' : '_30jeq3 _1_WHN1'}).text.strip()\n",
    "    temp_dict['RATING'] = item.find('div' , {'class' : '_3LWZlK'}).text.strip()\n",
    "    temp_dict['SPECS'] = item.find('div' , {'class' : 'fMghEO'}).text.strip()\n",
    "    data_list.append(temp_dict)"
   ]
  },
  {
   "cell_type": "code",
   "execution_count": 89,
   "metadata": {},
   "outputs": [
    {
     "data": {
      "text/html": [
       "<div>\n",
       "<style scoped>\n",
       "    .dataframe tbody tr th:only-of-type {\n",
       "        vertical-align: middle;\n",
       "    }\n",
       "\n",
       "    .dataframe tbody tr th {\n",
       "        vertical-align: top;\n",
       "    }\n",
       "\n",
       "    .dataframe thead th {\n",
       "        text-align: right;\n",
       "    }\n",
       "</style>\n",
       "<table border=\"1\" class=\"dataframe\">\n",
       "  <thead>\n",
       "    <tr style=\"text-align: right;\">\n",
       "      <th></th>\n",
       "      <th>TITLE</th>\n",
       "      <th>PRICE</th>\n",
       "      <th>RATING</th>\n",
       "      <th>SPECS</th>\n",
       "    </tr>\n",
       "  </thead>\n",
       "  <tbody>\n",
       "    <tr>\n",
       "      <th>0</th>\n",
       "      <td>POCO M2 (Pitch Black, 64 GB)</td>\n",
       "      <td>₹9,999</td>\n",
       "      <td>4.3</td>\n",
       "      <td>6 GB RAM | 64 GB ROM | Expandable Upto 512 GB1...</td>\n",
       "    </tr>\n",
       "    <tr>\n",
       "      <th>1</th>\n",
       "      <td>POCO C3 (Lime Green, 64 GB)</td>\n",
       "      <td>₹7,999</td>\n",
       "      <td>4.3</td>\n",
       "      <td>4 GB RAM | 64 GB ROM | Expandable Upto 512 GB1...</td>\n",
       "    </tr>\n",
       "    <tr>\n",
       "      <th>2</th>\n",
       "      <td>POCO C3 (Lime Green, 32 GB)</td>\n",
       "      <td>₹6,999</td>\n",
       "      <td>4.3</td>\n",
       "      <td>3 GB RAM | 32 GB ROM | Expandable Upto 512 GB1...</td>\n",
       "    </tr>\n",
       "    <tr>\n",
       "      <th>3</th>\n",
       "      <td>Samsung Galaxy F41 (Fusion Blue, 128 GB)</td>\n",
       "      <td>₹16,499</td>\n",
       "      <td>4.3</td>\n",
       "      <td>6 GB RAM | 128 GB ROM | Expandable Upto 512 GB...</td>\n",
       "    </tr>\n",
       "    <tr>\n",
       "      <th>4</th>\n",
       "      <td>POCO C3 (Matte Black, 64 GB)</td>\n",
       "      <td>₹7,999</td>\n",
       "      <td>4.3</td>\n",
       "      <td>4 GB RAM | 64 GB ROM | Expandable Upto 512 GB1...</td>\n",
       "    </tr>\n",
       "    <tr>\n",
       "      <th>5</th>\n",
       "      <td>POCO M2 (Brick Red, 64 GB)</td>\n",
       "      <td>₹9,999</td>\n",
       "      <td>4.3</td>\n",
       "      <td>6 GB RAM | 64 GB ROM | Expandable Upto 512 GB1...</td>\n",
       "    </tr>\n",
       "    <tr>\n",
       "      <th>6</th>\n",
       "      <td>POCO M2 (Slate Blue, 64 GB)</td>\n",
       "      <td>₹9,999</td>\n",
       "      <td>4.3</td>\n",
       "      <td>6 GB RAM | 64 GB ROM | Expandable Upto 512 GB1...</td>\n",
       "    </tr>\n",
       "    <tr>\n",
       "      <th>7</th>\n",
       "      <td>Realme 6i (Lunar White, 64 GB)</td>\n",
       "      <td>₹12,999</td>\n",
       "      <td>4.4</td>\n",
       "      <td>4 GB RAM | 64 GB ROM | Expandable Upto 256 GB1...</td>\n",
       "    </tr>\n",
       "    <tr>\n",
       "      <th>8</th>\n",
       "      <td>Realme 6i (Lunar White, 64 GB)</td>\n",
       "      <td>₹11,999</td>\n",
       "      <td>4.4</td>\n",
       "      <td>6 GB RAM | 64 GB ROM | Expandable Upto 256 GB1...</td>\n",
       "    </tr>\n",
       "    <tr>\n",
       "      <th>9</th>\n",
       "      <td>Realme 6i (Eclipse Black, 64 GB)</td>\n",
       "      <td>₹12,999</td>\n",
       "      <td>4.4</td>\n",
       "      <td>4 GB RAM | 64 GB ROM | Expandable Upto 256 GB1...</td>\n",
       "    </tr>\n",
       "    <tr>\n",
       "      <th>10</th>\n",
       "      <td>Realme Narzo 20A (Victory Blue, 64 GB)</td>\n",
       "      <td>₹9,499</td>\n",
       "      <td>4.4</td>\n",
       "      <td>4 GB RAM | 64 GB ROM | Expandable Upto 256 GB1...</td>\n",
       "    </tr>\n",
       "    <tr>\n",
       "      <th>11</th>\n",
       "      <td>Realme Narzo 20 (Glory Silver, 64 GB)</td>\n",
       "      <td>₹10,499</td>\n",
       "      <td>4.3</td>\n",
       "      <td>4 GB RAM | 64 GB ROM | Expandable Upto 256 GB1...</td>\n",
       "    </tr>\n",
       "    <tr>\n",
       "      <th>12</th>\n",
       "      <td>Realme Narzo 20 (Glory Silver, 128 GB)</td>\n",
       "      <td>₹11,499</td>\n",
       "      <td>4.3</td>\n",
       "      <td>4 GB RAM | 128 GB ROM | Expandable Upto 256 GB...</td>\n",
       "    </tr>\n",
       "    <tr>\n",
       "      <th>13</th>\n",
       "      <td>Samsung Galaxy F41 (Fusion Black, 64 GB)</td>\n",
       "      <td>₹15,499</td>\n",
       "      <td>4.3</td>\n",
       "      <td>6 GB RAM | 64 GB ROM | Expandable Upto 512 GB1...</td>\n",
       "    </tr>\n",
       "    <tr>\n",
       "      <th>14</th>\n",
       "      <td>POCO C3 (Matte Black, 32 GB)</td>\n",
       "      <td>₹6,999</td>\n",
       "      <td>4.3</td>\n",
       "      <td>3 GB RAM | 32 GB ROM | Expandable Upto 512 GB1...</td>\n",
       "    </tr>\n",
       "    <tr>\n",
       "      <th>15</th>\n",
       "      <td>Realme Narzo 20A (Victory Blue, 32 GB)</td>\n",
       "      <td>₹8,499</td>\n",
       "      <td>4.3</td>\n",
       "      <td>3 GB RAM | 32 GB ROM | Expandable Upto 256 GB1...</td>\n",
       "    </tr>\n",
       "    <tr>\n",
       "      <th>16</th>\n",
       "      <td>Realme Narzo 20A (Glory Silver, 32 GB)</td>\n",
       "      <td>₹8,499</td>\n",
       "      <td>4.3</td>\n",
       "      <td>3 GB RAM | 32 GB ROM | Expandable Upto 256 GB1...</td>\n",
       "    </tr>\n",
       "    <tr>\n",
       "      <th>17</th>\n",
       "      <td>Redmi 9i (Midnight Black, 64 GB)</td>\n",
       "      <td>₹8,299</td>\n",
       "      <td>4.3</td>\n",
       "      <td>4 GB RAM | 64 GB ROM | Expandable Upto 512 GB1...</td>\n",
       "    </tr>\n",
       "    <tr>\n",
       "      <th>18</th>\n",
       "      <td>POCO M2 (Slate Blue, 128 GB)</td>\n",
       "      <td>₹10,999</td>\n",
       "      <td>4.3</td>\n",
       "      <td>6 GB RAM | 128 GB ROM | Expandable Upto 512 GB...</td>\n",
       "    </tr>\n",
       "    <tr>\n",
       "      <th>19</th>\n",
       "      <td>Samsung Galaxy F41 (Fusion Blue, 64 GB)</td>\n",
       "      <td>₹15,499</td>\n",
       "      <td>4.3</td>\n",
       "      <td>6 GB RAM | 64 GB ROM | Expandable Upto 512 GB1...</td>\n",
       "    </tr>\n",
       "    <tr>\n",
       "      <th>20</th>\n",
       "      <td>Redmi 9i (Nature Green, 64 GB)</td>\n",
       "      <td>₹8,299</td>\n",
       "      <td>4.3</td>\n",
       "      <td>4 GB RAM | 64 GB ROM | Expandable Upto 512 GB1...</td>\n",
       "    </tr>\n",
       "    <tr>\n",
       "      <th>21</th>\n",
       "      <td>POCO M2 (Pitch Black, 128 GB)</td>\n",
       "      <td>₹10,999</td>\n",
       "      <td>4.3</td>\n",
       "      <td>6 GB RAM | 128 GB ROM | Expandable Upto 512 GB...</td>\n",
       "    </tr>\n",
       "    <tr>\n",
       "      <th>22</th>\n",
       "      <td>Realme C15 Qualcomm Edition (Power Blue, 32 GB)</td>\n",
       "      <td>₹8,999</td>\n",
       "      <td>4.3</td>\n",
       "      <td>3 GB RAM | 32 GB ROM | Expandable Upto 256 GB1...</td>\n",
       "    </tr>\n",
       "    <tr>\n",
       "      <th>23</th>\n",
       "      <td>Samsung Galaxy F41 (Fusion Green, 128 GB)</td>\n",
       "      <td>₹16,499</td>\n",
       "      <td>4.3</td>\n",
       "      <td>6 GB RAM | 128 GB ROM | Expandable Upto 512 GB...</td>\n",
       "    </tr>\n",
       "  </tbody>\n",
       "</table>\n",
       "</div>"
      ],
      "text/plain": [
       "                                              TITLE    PRICE RATING  \\\n",
       "0                      POCO M2 (Pitch Black, 64 GB)   ₹9,999    4.3   \n",
       "1                       POCO C3 (Lime Green, 64 GB)   ₹7,999    4.3   \n",
       "2                       POCO C3 (Lime Green, 32 GB)   ₹6,999    4.3   \n",
       "3          Samsung Galaxy F41 (Fusion Blue, 128 GB)  ₹16,499    4.3   \n",
       "4                      POCO C3 (Matte Black, 64 GB)   ₹7,999    4.3   \n",
       "5                        POCO M2 (Brick Red, 64 GB)   ₹9,999    4.3   \n",
       "6                       POCO M2 (Slate Blue, 64 GB)   ₹9,999    4.3   \n",
       "7                    Realme 6i (Lunar White, 64 GB)  ₹12,999    4.4   \n",
       "8                    Realme 6i (Lunar White, 64 GB)  ₹11,999    4.4   \n",
       "9                  Realme 6i (Eclipse Black, 64 GB)  ₹12,999    4.4   \n",
       "10           Realme Narzo 20A (Victory Blue, 64 GB)   ₹9,499    4.4   \n",
       "11            Realme Narzo 20 (Glory Silver, 64 GB)  ₹10,499    4.3   \n",
       "12           Realme Narzo 20 (Glory Silver, 128 GB)  ₹11,499    4.3   \n",
       "13         Samsung Galaxy F41 (Fusion Black, 64 GB)  ₹15,499    4.3   \n",
       "14                     POCO C3 (Matte Black, 32 GB)   ₹6,999    4.3   \n",
       "15           Realme Narzo 20A (Victory Blue, 32 GB)   ₹8,499    4.3   \n",
       "16           Realme Narzo 20A (Glory Silver, 32 GB)   ₹8,499    4.3   \n",
       "17                 Redmi 9i (Midnight Black, 64 GB)   ₹8,299    4.3   \n",
       "18                     POCO M2 (Slate Blue, 128 GB)  ₹10,999    4.3   \n",
       "19          Samsung Galaxy F41 (Fusion Blue, 64 GB)  ₹15,499    4.3   \n",
       "20                   Redmi 9i (Nature Green, 64 GB)   ₹8,299    4.3   \n",
       "21                    POCO M2 (Pitch Black, 128 GB)  ₹10,999    4.3   \n",
       "22  Realme C15 Qualcomm Edition (Power Blue, 32 GB)   ₹8,999    4.3   \n",
       "23        Samsung Galaxy F41 (Fusion Green, 128 GB)  ₹16,499    4.3   \n",
       "\n",
       "                                                SPECS  \n",
       "0   6 GB RAM | 64 GB ROM | Expandable Upto 512 GB1...  \n",
       "1   4 GB RAM | 64 GB ROM | Expandable Upto 512 GB1...  \n",
       "2   3 GB RAM | 32 GB ROM | Expandable Upto 512 GB1...  \n",
       "3   6 GB RAM | 128 GB ROM | Expandable Upto 512 GB...  \n",
       "4   4 GB RAM | 64 GB ROM | Expandable Upto 512 GB1...  \n",
       "5   6 GB RAM | 64 GB ROM | Expandable Upto 512 GB1...  \n",
       "6   6 GB RAM | 64 GB ROM | Expandable Upto 512 GB1...  \n",
       "7   4 GB RAM | 64 GB ROM | Expandable Upto 256 GB1...  \n",
       "8   6 GB RAM | 64 GB ROM | Expandable Upto 256 GB1...  \n",
       "9   4 GB RAM | 64 GB ROM | Expandable Upto 256 GB1...  \n",
       "10  4 GB RAM | 64 GB ROM | Expandable Upto 256 GB1...  \n",
       "11  4 GB RAM | 64 GB ROM | Expandable Upto 256 GB1...  \n",
       "12  4 GB RAM | 128 GB ROM | Expandable Upto 256 GB...  \n",
       "13  6 GB RAM | 64 GB ROM | Expandable Upto 512 GB1...  \n",
       "14  3 GB RAM | 32 GB ROM | Expandable Upto 512 GB1...  \n",
       "15  3 GB RAM | 32 GB ROM | Expandable Upto 256 GB1...  \n",
       "16  3 GB RAM | 32 GB ROM | Expandable Upto 256 GB1...  \n",
       "17  4 GB RAM | 64 GB ROM | Expandable Upto 512 GB1...  \n",
       "18  6 GB RAM | 128 GB ROM | Expandable Upto 512 GB...  \n",
       "19  6 GB RAM | 64 GB ROM | Expandable Upto 512 GB1...  \n",
       "20  4 GB RAM | 64 GB ROM | Expandable Upto 512 GB1...  \n",
       "21  6 GB RAM | 128 GB ROM | Expandable Upto 512 GB...  \n",
       "22  3 GB RAM | 32 GB ROM | Expandable Upto 256 GB1...  \n",
       "23  6 GB RAM | 128 GB ROM | Expandable Upto 512 GB...  "
      ]
     },
     "execution_count": 89,
     "metadata": {},
     "output_type": "execute_result"
    }
   ],
   "source": [
    "df = pd.DataFrame(data_list)\n",
    "df"
   ]
  },
  {
   "cell_type": "code",
   "execution_count": null,
   "metadata": {},
   "outputs": [],
   "source": []
  },
  {
   "cell_type": "code",
   "execution_count": null,
   "metadata": {},
   "outputs": [],
   "source": []
  }
 ],
 "metadata": {
  "kernelspec": {
   "display_name": "Python 3",
   "language": "python",
   "name": "python3"
  },
  "language_info": {
   "codemirror_mode": {
    "name": "ipython",
    "version": 3
   },
   "file_extension": ".py",
   "mimetype": "text/x-python",
   "name": "python",
   "nbconvert_exporter": "python",
   "pygments_lexer": "ipython3",
   "version": "3.8.3"
  }
 },
 "nbformat": 4,
 "nbformat_minor": 4
}
